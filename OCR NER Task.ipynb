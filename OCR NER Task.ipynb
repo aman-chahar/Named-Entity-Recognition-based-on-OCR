{
 "cells": [
  {
   "cell_type": "code",
   "execution_count": 40,
   "id": "463ef2aa",
   "metadata": {
    "scrolled": true
   },
   "outputs": [],
   "source": [
    "import pytesseract\n",
    "pytesseract.pytesseract.tesseract_cmd=r'C:\\Program Files\\Tesseract-OCR\\tesseract.exe'"
   ]
  },
  {
   "cell_type": "code",
   "execution_count": 41,
   "id": "535faefc",
   "metadata": {},
   "outputs": [],
   "source": [
    "import cv2\n",
    "from docx import Document"
   ]
  },
  {
   "cell_type": "markdown",
   "id": "5cc1c511",
   "metadata": {},
   "source": [
    "# Notice:\n",
    "### I cannot extract the text from the pdf because \"poppler\" is not installing in my windows system. So I have extracted the text from Images.\n",
    "\n",
    "#### code to extract pages from pdf\n",
    "from pdf2image import convert_from_path\n",
    "\n",
    "( Replace 'input_file.pdf' with the path to your PDF file)\n",
    "pdf_file = 'input_file.pdf'\n",
    "pages = convert_from_path(pdf_file)"
   ]
  },
  {
   "cell_type": "markdown",
   "id": "de8b58ff",
   "metadata": {},
   "source": [
    "# Extracting Text from images"
   ]
  },
  {
   "cell_type": "code",
   "execution_count": 42,
   "id": "0d455107",
   "metadata": {},
   "outputs": [],
   "source": [
    "# Display Image\n",
    "img = cv2.imread(\"news1.jpg\")\n",
    "#cv2.imshow(\"Sample Image\", img) # to show image\n",
    "cv2.waitKey(0)\n",
    "cv2.destroyAllWindows()"
   ]
  },
  {
   "cell_type": "code",
   "execution_count": 43,
   "id": "107cfc56",
   "metadata": {},
   "outputs": [
    {
     "name": "stdout",
     "output_type": "stream",
     "text": [
      "Reading Newspaper/Newspaper The paper that provides news and views\n",
      "of home and abroad is Called newspaper. It is called the storehouse of\n",
      "knowledge. ReadinginéWspaper Has many advanitagés. We get all sorts of\n",
      "information through the newspaper. We can know what is happening all\n",
      "over ile world through it. It gives us news about politics, economics, cul-\n",
      "ture, literature; education, treatment, games) and sports etc. There are dif-\n",
      "ferent types of newspapers in our country such as allies, weeklies, month-\n",
      "lies etc. | read the newspaper daily with Intention. In the morning, || wait\n",
      "eagerly fora newspaper. Because of a great source of pleasure and know!-\n",
      "edge. In spite of having an of importance, the newspaper has some nega-\n",
      "tive sides too. Sometimes newspaper creates misunderstanding by pub-\n",
      "lishing false and baseless news. As a result, it excites the public feelings od\n",
      "does much harm to the country. However, we can not do a single day\n",
      "without a newspaper. It is a part ‘and parcel in our day to our life.\n",
      "\n"
     ]
    }
   ],
   "source": [
    "# Display text\n",
    "text=pytesseract.image_to_string(img)\n",
    "print(text)"
   ]
  },
  {
   "cell_type": "markdown",
   "id": "beb68c26",
   "metadata": {},
   "source": [
    "###  Save the extracted text in document format"
   ]
  },
  {
   "cell_type": "code",
   "execution_count": 44,
   "id": "b253161c",
   "metadata": {},
   "outputs": [
    {
     "name": "stdout",
     "output_type": "stream",
     "text": [
      "Text extracted from image has been saved to output.docx\n"
     ]
    }
   ],
   "source": [
    "# Create a new Word document\n",
    "doc = Document()\n",
    "doc.add_paragraph(text)\n",
    "\n",
    "# Save the Word document\n",
    "doc.save(\"output.docx\")\n",
    "\n",
    "print(\"Text extracted from image has been saved to output.docx\")"
   ]
  },
  {
   "cell_type": "markdown",
   "id": "b8a94518",
   "metadata": {},
   "source": [
    "### Importing Docs file"
   ]
  },
  {
   "cell_type": "code",
   "execution_count": 45,
   "id": "bb850702",
   "metadata": {},
   "outputs": [
    {
     "name": "stdout",
     "output_type": "stream",
     "text": [
      "Contents of the document:\n",
      "Reading Newspaper/Newspaper The paper that provides news and views\n",
      "of home and abroad is Called newspaper. It is called the storehouse of\n",
      "knowledge. ReadinginéWspaper Has many advanitagés. We get all sorts of\n",
      "information through the newspaper. We can know what is happening all\n",
      "over ile world through it. It gives us news about politics, economics, cul-\n",
      "ture, literature; education, treatment, games) and sports etc. There are dif-\n",
      "ferent types of newspapers in our country such as allies, weeklies, month-\n",
      "lies etc. | read the newspaper daily with Intention. In the morning, || wait\n",
      "eagerly fora newspaper. Because of a great source of pleasure and know!-\n",
      "edge. In spite of having an of importance, the newspaper has some nega-\n",
      "tive sides too. Sometimes newspaper creates misunderstanding by pub-\n",
      "lishing false and baseless news. As a result, it excites the public feelings od\n",
      "does much harm to the country. However, we can not do a single day\n",
      "without a newspaper. It is a part ‘and parcel in our day to our life.\n",
      "\n",
      "\n"
     ]
    }
   ],
   "source": [
    "# Specify the path to your Word document\n",
    "doc_path = \"output.docx\"\n",
    "\n",
    "# Load the Word document\n",
    "doc = Document(doc_path)\n",
    "\n",
    "# Initialize an empty string to store the document text\n",
    "document_text = \"\"\n",
    "\n",
    "# Iterate through all paragraphs in the document\n",
    "for paragraph in doc.paragraphs:\n",
    "    # Append the text of each paragraph to the document_text string\n",
    "    document_text += paragraph.text + \"\\n\"\n",
    "\n",
    "# Print or process the extracted document text\n",
    "print(\"Contents of the document:\")\n",
    "print(document_text)"
   ]
  },
  {
   "cell_type": "markdown",
   "id": "c63622f0",
   "metadata": {},
   "source": [
    "# Named Entity Recognition (NER) using spacy"
   ]
  },
  {
   "cell_type": "code",
   "execution_count": 46,
   "id": "dac5ce6d",
   "metadata": {},
   "outputs": [],
   "source": [
    "import spacy\n",
    "nlp = spacy.load('en_core_web_sm') # 'en_core_web_sm' is an small english pipeline trained on written web text (blogs, news, comments)"
   ]
  },
  {
   "cell_type": "code",
   "execution_count": 47,
   "id": "040c415e",
   "metadata": {},
   "outputs": [],
   "source": [
    "# fun to display basic entity info\n",
    "\n",
    "def show_ents(doc):\n",
    "    if doc.ents:\n",
    "        for ent in doc.ents:\n",
    "            print(ent.text+' - ' +str(ent.start_char) +' - '+ str(ent.end_char) +\n",
    "                 ' - '+ ent.label_+ ' - '+str(spacy.explain(ent.label_)))\n",
    "        \n",
    "    \n",
    "    else: \n",
    "        print(\"No named entities found.\")"
   ]
  },
  {
   "cell_type": "code",
   "execution_count": 48,
   "id": "3e8ed169",
   "metadata": {},
   "outputs": [
    {
     "name": "stdout",
     "output_type": "stream",
     "text": [
      "Apple - 0 - 5 - ORG - Companies, agencies, institutions, etc.\n",
      "U.K. - 27 - 31 - GPE - Countries, cities, states\n",
      "$1 billion - 44 - 54 - MONEY - Monetary values, including unit\n"
     ]
    }
   ],
   "source": [
    "# Testing sample\n",
    "doc1 = nlp(\"Apple is looking at buying U.K. startup for $1 billion\")\n",
    "\n",
    "show_ents(doc1)"
   ]
  },
  {
   "cell_type": "code",
   "execution_count": 49,
   "id": "47f93860",
   "metadata": {},
   "outputs": [
    {
     "name": "stdout",
     "output_type": "stream",
     "text": [
      "Newspaper/Newspaper - 8 - 27 - ORG - Companies, agencies, institutions, etc.\n",
      "daily - 538 - 543 - DATE - Absolute or relative dates or periods\n",
      "Intention - 549 - 558 - ORG - Companies, agencies, institutions, etc.\n",
      "a single day - 932 - 944 - DATE - Absolute or relative dates or periods\n",
      "our day - 994 - 1001 - DATE - Absolute or relative dates or periods\n"
     ]
    }
   ],
   "source": [
    "# NER of ouw text output from images\n",
    "doc2 = nlp(document_text)\n",
    "show_ents(doc2)"
   ]
  },
  {
   "cell_type": "markdown",
   "id": "fb61127b",
   "metadata": {},
   "source": [
    "# Visualizing NER"
   ]
  },
  {
   "cell_type": "code",
   "execution_count": 50,
   "id": "8bf9a08f",
   "metadata": {},
   "outputs": [],
   "source": [
    "from spacy import displacy"
   ]
  },
  {
   "cell_type": "code",
   "execution_count": 51,
   "id": "73ea0b7b",
   "metadata": {},
   "outputs": [
    {
     "data": {
      "text/html": [
       "<span class=\"tex2jax_ignore\"><div class=\"entities\" style=\"line-height: 2.5; direction: ltr\">Reading \n",
       "<mark class=\"entity\" style=\"background: #7aecec; padding: 0.45em 0.6em; margin: 0 0.25em; line-height: 1; border-radius: 0.35em;\">\n",
       "    Newspaper/Newspaper\n",
       "    <span style=\"font-size: 0.8em; font-weight: bold; line-height: 1; border-radius: 0.35em; vertical-align: middle; margin-left: 0.5rem\">ORG</span>\n",
       "</mark>\n",
       " The paper that provides news and views</br>of home and abroad is Called newspaper. It is called the storehouse of</br>knowledge. ReadinginéWspaper Has many advanitagés. We get all sorts of</br>information through the newspaper. We can know what is happening all</br>over ile world through it. It gives us news about politics, economics, cul-</br>ture, literature; education, treatment, games) and sports etc. There are dif-</br>ferent types of newspapers in our country such as allies, weeklies, month-</br>lies etc. | read the newspaper \n",
       "<mark class=\"entity\" style=\"background: #bfe1d9; padding: 0.45em 0.6em; margin: 0 0.25em; line-height: 1; border-radius: 0.35em;\">\n",
       "    daily\n",
       "    <span style=\"font-size: 0.8em; font-weight: bold; line-height: 1; border-radius: 0.35em; vertical-align: middle; margin-left: 0.5rem\">DATE</span>\n",
       "</mark>\n",
       " with \n",
       "<mark class=\"entity\" style=\"background: #7aecec; padding: 0.45em 0.6em; margin: 0 0.25em; line-height: 1; border-radius: 0.35em;\">\n",
       "    Intention\n",
       "    <span style=\"font-size: 0.8em; font-weight: bold; line-height: 1; border-radius: 0.35em; vertical-align: middle; margin-left: 0.5rem\">ORG</span>\n",
       "</mark>\n",
       ". In the morning, || wait</br>eagerly fora newspaper. Because of a great source of pleasure and know!-</br>edge. In spite of having an of importance, the newspaper has some nega-</br>tive sides too. Sometimes newspaper creates misunderstanding by pub-</br>lishing false and baseless news. As a result, it excites the public feelings od</br>does much harm to the country. However, we can not do \n",
       "<mark class=\"entity\" style=\"background: #bfe1d9; padding: 0.45em 0.6em; margin: 0 0.25em; line-height: 1; border-radius: 0.35em;\">\n",
       "    a single day\n",
       "    <span style=\"font-size: 0.8em; font-weight: bold; line-height: 1; border-radius: 0.35em; vertical-align: middle; margin-left: 0.5rem\">DATE</span>\n",
       "</mark>\n",
       "</br>without a newspaper. It is a part ‘and parcel in \n",
       "<mark class=\"entity\" style=\"background: #bfe1d9; padding: 0.45em 0.6em; margin: 0 0.25em; line-height: 1; border-radius: 0.35em;\">\n",
       "    our day\n",
       "    <span style=\"font-size: 0.8em; font-weight: bold; line-height: 1; border-radius: 0.35em; vertical-align: middle; margin-left: 0.5rem\">DATE</span>\n",
       "</mark>\n",
       " to our life.</br></br></div></span>"
      ],
      "text/plain": [
       "<IPython.core.display.HTML object>"
      ]
     },
     "metadata": {},
     "output_type": "display_data"
    }
   ],
   "source": [
    "doc = nlp(document_text)\n",
    "\n",
    "displacy.render(doc, style=\"ent\", jupyter=True)"
   ]
  },
  {
   "cell_type": "code",
   "execution_count": null,
   "id": "579741ea",
   "metadata": {},
   "outputs": [],
   "source": []
  },
  {
   "cell_type": "code",
   "execution_count": null,
   "id": "f5a72ea0",
   "metadata": {},
   "outputs": [],
   "source": []
  }
 ],
 "metadata": {
  "kernelspec": {
   "display_name": "Python 3 (ipykernel)",
   "language": "python",
   "name": "python3"
  },
  "language_info": {
   "codemirror_mode": {
    "name": "ipython",
    "version": 3
   },
   "file_extension": ".py",
   "mimetype": "text/x-python",
   "name": "python",
   "nbconvert_exporter": "python",
   "pygments_lexer": "ipython3",
   "version": "3.9.13"
  }
 },
 "nbformat": 4,
 "nbformat_minor": 5
}
